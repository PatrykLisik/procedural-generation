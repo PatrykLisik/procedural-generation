{
 "cells": [
  {
   "cell_type": "markdown",
   "metadata": {},
   "source": [
    "# Mandelbrot set"
   ]
  },
  {
   "cell_type": "code",
   "execution_count": 2,
   "metadata": {},
   "outputs": [],
   "source": [
    "import numpy as np"
   ]
  },
  {
   "cell_type": "code",
   "execution_count": 11,
   "metadata": {},
   "outputs": [
    {
     "data": {
      "text/plain": [
       "array([-2. +6.j, -4.+28.j, -6.+66.j])"
      ]
     },
     "execution_count": 11,
     "metadata": {},
     "output_type": "execute_result"
    }
   ],
   "source": [
    "a = np.array([1+2j, 3+4j, 5+6j])\n",
    "a**2+a"
   ]
  },
  {
   "cell_type": "code",
   "execution_count": 38,
   "metadata": {},
   "outputs": [],
   "source": [
    "x_start=-10\n",
    "x_end = 10\n",
    "y_start=-10\n",
    "y_end = 10\n",
    "step = 0.1\n",
    "x,y=np.mgrid[x_start:x_end:step, y_start:y_end:step]\n",
    "complex_space = np.zeros(shape=(len(x),len(y)), dtype=complex)"
   ]
  },
  {
   "cell_type": "code",
   "execution_count": 39,
   "metadata": {},
   "outputs": [
    {
     "data": {
      "text/plain": [
       "array([[0.+0.j, 0.+0.j, 0.+0.j, ..., 0.+0.j, 0.+0.j, 0.+0.j],\n",
       "       [0.+0.j, 0.+0.j, 0.+0.j, ..., 0.+0.j, 0.+0.j, 0.+0.j],\n",
       "       [0.+0.j, 0.+0.j, 0.+0.j, ..., 0.+0.j, 0.+0.j, 0.+0.j],\n",
       "       ...,\n",
       "       [0.+0.j, 0.+0.j, 0.+0.j, ..., 0.+0.j, 0.+0.j, 0.+0.j],\n",
       "       [0.+0.j, 0.+0.j, 0.+0.j, ..., 0.+0.j, 0.+0.j, 0.+0.j],\n",
       "       [0.+0.j, 0.+0.j, 0.+0.j, ..., 0.+0.j, 0.+0.j, 0.+0.j]])"
      ]
     },
     "execution_count": 39,
     "metadata": {},
     "output_type": "execute_result"
    }
   ],
   "source": [
    "complex_space"
   ]
  },
  {
   "cell_type": "code",
   "execution_count": 42,
   "metadata": {},
   "outputs": [
    {
     "data": {
      "text/plain": [
       "array([[-10. -10.j , -10.  -9.9j, -10.  -9.8j, ..., -10.  +9.7j,\n",
       "        -10.  +9.8j, -10.  +9.9j],\n",
       "       [ -9.9-10.j ,  -9.9 -9.9j,  -9.9 -9.8j, ...,  -9.9 +9.7j,\n",
       "         -9.9 +9.8j,  -9.9 +9.9j],\n",
       "       [ -9.8-10.j ,  -9.8 -9.9j,  -9.8 -9.8j, ...,  -9.8 +9.7j,\n",
       "         -9.8 +9.8j,  -9.8 +9.9j],\n",
       "       ...,\n",
       "       [  9.7-10.j ,   9.7 -9.9j,   9.7 -9.8j, ...,   9.7 +9.7j,\n",
       "          9.7 +9.8j,   9.7 +9.9j],\n",
       "       [  9.8-10.j ,   9.8 -9.9j,   9.8 -9.8j, ...,   9.8 +9.7j,\n",
       "          9.8 +9.8j,   9.8 +9.9j],\n",
       "       [  9.9-10.j ,   9.9 -9.9j,   9.9 -9.8j, ...,   9.9 +9.7j,\n",
       "          9.9 +9.8j,   9.9 +9.9j]])"
      ]
     },
     "execution_count": 42,
     "metadata": {},
     "output_type": "execute_result"
    }
   ],
   "source": [
    "complex_space.real=x\n",
    "complex_space.imag=y\n",
    "complex_space"
   ]
  },
  {
   "cell_type": "code",
   "execution_count": null,
   "metadata": {},
   "outputs": [],
   "source": []
  }
 ],
 "metadata": {
  "kernelspec": {
   "display_name": "Python 3",
   "language": "python",
   "name": "python3"
  },
  "language_info": {
   "codemirror_mode": {
    "name": "ipython",
    "version": 3
   },
   "file_extension": ".py",
   "mimetype": "text/x-python",
   "name": "python",
   "nbconvert_exporter": "python",
   "pygments_lexer": "ipython3",
   "version": "3.7.4"
  }
 },
 "nbformat": 4,
 "nbformat_minor": 2
}
