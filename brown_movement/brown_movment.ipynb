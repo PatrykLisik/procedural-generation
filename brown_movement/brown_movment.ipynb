{
 "cells": [
  {
   "cell_type": "code",
   "execution_count": 6,
   "metadata": {},
   "outputs": [],
   "source": [
    "import numpy as np\n",
    "import matplotlib.pyplot as plt\n",
    "\n",
    "import os\n",
    "import sys\n",
    "module_path = os.path.abspath(os.path.join('..'))\n",
    "if module_path not in sys.path:\n",
    "    sys.path.append(module_path)\n",
    "    \n",
    "from common_jupyter_tools import update_progress"
   ]
  },
  {
   "cell_type": "code",
   "execution_count": 7,
   "metadata": {},
   "outputs": [
    {
     "data": {
      "text/plain": [
       "<matplotlib.patches.FancyArrow at 0x7efbf860e970>"
      ]
     },
     "execution_count": 7,
     "metadata": {},
     "output_type": "execute_result"
    },
    {
     "data": {
      "image/png": "[encoded data removed]",
      "text/plain": [
       "<Figure size 432x288 with 1 Axes>"
      ]
     },
     "metadata": {
      "needs_background": "light"
     },
     "output_type": "display_data"
    }
   ],
   "source": [
    "ax = plt.axes()\n",
    "ax.arrow(0, 0, 0.5, 0.5, head_width=0.05, head_length=0.1, fc='k', ec='k')"
   ]
  },
  {
   "cell_type": "code",
   "execution_count": 8,
   "metadata": {},
   "outputs": [
    {
     "name": "stdout",
     "output_type": "stream",
     "text": [
      "1.5902475599587682\n",
      "-0.5725025192584426\n",
      "False\n"
     ]
    },
    {
     "data": {
      "image/png": "[encoded data removed]",
      "text/plain": [
       "<Figure size 432x288 with 1 Axes>"
      ]
     },
     "metadata": {
      "needs_background": "light"
     },
     "output_type": "display_data"
    }
   ],
   "source": [
    "start_x = 0.0\n",
    "start_y = 0.0\n",
    "\n",
    "size = 40\n",
    "\n",
    "ax = plt.axes()\n",
    "ax.set_xlim(-size,size)\n",
    "ax.set_ylim(-size,size)\n",
    "\n",
    "current_x = start_x\n",
    "current_y  = start_y\n",
    "    \n",
    "for _ in range(5):\n",
    "    dx,dy  = np.random.normal(0,1,2)\n",
    "    ax.arrow(current_x, current_y, dx, dy,head_width=0.05, head_length=0.2, fc='k', ec='k')\n",
    "    current_x+=dx\n",
    "    current_y+=dy\n",
    "    \n",
    "catch_radious = 0.2\n",
    "\n",
    "i = 5\n",
    "\n",
    "print(current_x)\n",
    "print(current_y)\n",
    "print(np.abs(current_x - start_x) < catch_radious)\n",
    "\n",
    "dists = []\n",
    "dist = np.inf\n",
    "while dist> catch_radious:\n",
    "    dist = (current_x - start_x)**2 + (current_y - start_y)**2\n",
    "    dists.append(dist)\n",
    "    dx,dy  = np.random.normal(0,1.4,2)\n",
    "    ax.arrow(current_x, current_y, dx, dy, fc='k', ec='k')\n",
    "    current_x+=dx\n",
    "    current_y+=dy\n",
    "    i+=1\n",
    "    if i>1000:\n",
    "        break\n"
   ]
  },
  {
   "cell_type": "code",
   "execution_count": 9,
   "metadata": {},
   "outputs": [
    {
     "data": {
      "text/plain": [
       "[<matplotlib.lines.Line2D at 0x7efbb02cee50>]"
      ]
     },
     "execution_count": 9,
     "metadata": {},
     "output_type": "execute_result"
    },
    {
     "data": {
      "image/png": "[encoded data removed]",
      "text/plain": [
       "<Figure size 432x288 with 1 Axes>"
      ]
     },
     "metadata": {
      "needs_background": "light"
     },
     "output_type": "display_data"
    }
   ],
   "source": [
    "plt.plot(dists)"
   ]
  },
  {
   "cell_type": "code",
   "execution_count": null,
   "metadata": {},
   "outputs": [],
   "source": []
  },
  {
   "cell_type": "code",
   "execution_count": 10,
   "metadata": {},
   "outputs": [],
   "source": [
    "def sim(catch_radious = 0.2,step_lim = 8000):\n",
    "    start_x = 0.0\n",
    "    start_y = 0.0\n",
    "\n",
    "    size = 40\n",
    "\n",
    "    current_x = start_x\n",
    "    current_y  = start_y\n",
    "\n",
    "    for _ in range(5):\n",
    "        dx,dy  = np.random.normal(0,1,2)\n",
    "        ax.arrow(current_x, current_y, dx, dy,head_width=0.05, head_length=0.2, fc='k', ec='k')\n",
    "        current_x+=dx\n",
    "        current_y+=dy\n",
    "    \n",
    "    i = 5\n",
    "\n",
    "#     print(current_x)\n",
    "#     print(current_y)\n",
    "#     print(np.abs(current_x - start_x) < catch_radious)\n",
    "\n",
    "    dists = []\n",
    "    dist = np.inf\n",
    "    while dist> catch_radious:\n",
    "        dist = (current_x - start_x)**2 + (current_y - start_y)**2\n",
    "        dists.append(dist)\n",
    "        dx,dy  = np.random.normal(0,1.4,2)\n",
    "        current_x+=dx\n",
    "        current_y+=dy\n",
    "        i+=1\n",
    "        if i>step_lim:\n",
    "            break\n",
    "    return i"
   ]
  },
  {
   "cell_type": "code",
   "execution_count": 11,
   "metadata": {},
   "outputs": [
    {
     "data": {
      "text/plain": [
       "8001"
      ]
     },
     "execution_count": 11,
     "metadata": {},
     "output_type": "execute_result"
    }
   ],
   "source": [
    "sim()"
   ]
  },
  {
   "cell_type": "code",
   "execution_count": 12,
   "metadata": {},
   "outputs": [
    {
     "name": "stdout",
     "output_type": "stream",
     "text": [
      "Progress: [####################] 100.0%\n"
     ]
    }
   ],
   "source": [
    "end_steps = []\n",
    "for i in range(100):\n",
    "    end_steps.append(sim())\n",
    "    update_progress((i+1)/100)"
   ]
  },
  {
   "cell_type": "code",
   "execution_count": 9,
   "metadata": {},
   "outputs": [],
   "source": [
    "import seaborn as sns"
   ]
  },
  {
   "cell_type": "code",
   "execution_count": 10,
   "metadata": {},
   "outputs": [
    {
     "data": {
      "image/png": "[encoded data removed]",
      "text/plain": [
       "<Figure size 432x288 with 1 Axes>"
      ]
     },
     "metadata": {
      "needs_background": "light"
     },
     "output_type": "display_data"
    }
   ],
   "source": [
    "sns.distplot(end_steps);"
   ]
  },
  {
   "cell_type": "code",
   "execution_count": null,
   "metadata": {},
   "outputs": [],
   "source": [
    "end_steps2 = []\n",
    "for _ in range(10000):\n",
    "    end_steps2.append(sim(catch_radious = 0.4))"
   ]
  },
  {
   "cell_type": "code",
   "execution_count": null,
   "metadata": {},
   "outputs": [],
   "source": [
    "sns.distplot(end_steps2);"
   ]
  },
  {
   "cell_type": "code",
   "execution_count": null,
   "metadata": {},
   "outputs": [],
   "source": [
    "end_steps3 = []\n",
    "for _ in range(10000):\n",
    "    end_steps3.append(sim(catch_radious = 0.6))"
   ]
  },
  {
   "cell_type": "code",
   "execution_count": null,
   "metadata": {},
   "outputs": [],
   "source": [
    "sns.distplot(end_steps3);"
   ]
  }
 ],
 "metadata": {
  "kernelspec": {
   "display_name": "Python 3",
   "language": "python",
   "name": "python3"
  },
  "language_info": {
   "codemirror_mode": {
    "name": "ipython",
    "version": 3
   },
   "file_extension": ".py",
   "mimetype": "text/x-python",
   "name": "python",
   "nbconvert_exporter": "python",
   "pygments_lexer": "ipython3",
   "version": "3.8.1"
  }
 },
 "nbformat": 4,
 "nbformat_minor": 1
}
